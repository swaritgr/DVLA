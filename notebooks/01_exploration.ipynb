{
 "cells": [
  {
   "cell_type": "code",
   "execution_count": null,
   "id": "35b4b029",
   "metadata": {},
   "outputs": [],
   "source": [
    "import pandas as pd\n",
    "import matplotlib.pyplot as plt\n",
    "import seaborn as sns\n",
    "\n",
    "sns.set(style='whitegrid')"
   ]
  },
  {
   "cell_type": "code",
   "execution_count": null,
   "id": "f722cece",
   "metadata": {},
   "outputs": [],
   "source": [
    "# ⚠️ Update this path to your Drive path or local path\n",
    "file_path = '/content/drive/MyDrive/DVLA_data/df_VEH0160_GB.csv'\n",
    "\n",
    "try:\n",
    "    df = pd.read_csv(file_path)\n",
    "    print('✅ Data loaded successfully.')\n",
    "except Exception as e:\n",
    "    print(f'❌ Error loading data: {e}')"
   ]
  },
  {
   "cell_type": "code",
   "execution_count": null,
   "id": "5199511b",
   "metadata": {},
   "outputs": [],
   "source": [
    "df_ev = df[df['Fuel'] == 'Electric']\n",
    "print(f'Total EV records: {df_ev.shape[0]}')"
   ]
  },
  {
   "cell_type": "code",
   "execution_count": null,
   "id": "cb102a5a",
   "metadata": {},
   "outputs": [],
   "source": [
    "top_makes = df_ev['Make'].value_counts().head(10)\n",
    "print('Top EV makes:')\n",
    "print(top_makes)"
   ]
  },
  {
   "cell_type": "code",
   "execution_count": null,
   "id": "3b0d11ad",
   "metadata": {},
   "outputs": [],
   "source": [
    "quarter_cols = [col for col in df_ev.columns if 'Q' in col]\n",
    "df_ev_melted = df_ev.melt(id_vars=['Make', 'Model'], value_vars=quarter_cols, \n",
    "                          var_name='Quarter', value_name='Count')\n",
    "df_ev_trend = df_ev_melted.groupby('Quarter')['Count'].sum().reset_index()\n",
    "df_ev_trend = df_ev_trend.sort_values('Quarter')"
   ]
  },
  {
   "cell_type": "code",
   "execution_count": null,
   "id": "11f09c0b",
   "metadata": {},
   "outputs": [],
   "source": [
    "plt.figure(figsize=(14, 6))\n",
    "sns.lineplot(data=df_ev_trend, x='Quarter', y='Count', marker='o')\n",
    "plt.title('EV stock trend over time (Great Britain)')\n",
    "plt.xlabel('Quarter')\n",
    "plt.ylabel('Number of EVs')\n",
    "plt.xticks(rotation=90)\n",
    "plt.tight_layout()\n",
    "plt.show()"
   ]
  },
  {
   "cell_type": "code",
   "execution_count": null,
   "id": "14089114",
   "metadata": {},
   "outputs": [],
   "source": [
    "# df_ev.to_csv('/content/drive/MyDrive/DVLA_data/processed/df_EV_processed.csv', index=False)\n",
    "# print('✅ Processed EV data saved.')"
   ]
  }
 ],
 "metadata": {},
 "nbformat": 4,
 "nbformat_minor": 5
}
